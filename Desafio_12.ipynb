{
  "nbformat": 4,
  "nbformat_minor": 0,
  "metadata": {
    "anaconda-cloud": {},
    "kernelspec": {
      "display_name": "Python 3",
      "language": "python",
      "name": "python3"
    },
    "language_info": {
      "codemirror_mode": {
        "name": "ipython",
        "version": 3
      },
      "file_extension": ".py",
      "mimetype": "text/x-python",
      "name": "python",
      "nbconvert_exporter": "python",
      "pygments_lexer": "ipython3",
      "version": "3.6.5"
    },
    "colab": {
      "name": "Desafio 12.ipynb",
      "provenance": [],
      "include_colab_link": true
    }
  },
  "cells": [
    {
      "cell_type": "markdown",
      "metadata": {
        "id": "view-in-github",
        "colab_type": "text"
      },
      "source": [
        "<a href=\"https://colab.research.google.com/github/ValFerreiraAlv/br-python-challenges/blob/master/Desafio_12.ipynb\" target=\"_parent\"><img src=\"https://colab.research.google.com/assets/colab-badge.svg\" alt=\"Open In Colab\"/></a>"
      ]
    },
    {
      "cell_type": "markdown",
      "metadata": {
        "id": "AYHY2YXQf6J2"
      },
      "source": [
        "### Desafio 12\n",
        "\n",
        "Escreva uma função em Python para verificar a validade de uma senha.\n",
        "\n",
        "Validação:\n",
        "\n",
        "* Pelo menos 1 letra entre [a-z] e 1 letra entre [A-Z].\n",
        "* Pelo menos 1 número entre [0-9].\n",
        "* Pelo menos 1 caractere de [$ # @].\n",
        "* Comprimento mínimo de 6 caracteres.\n",
        "* Comprimento máximo de 16 caracteres.\n",
        "\n",
        "Entradas: \"12345678\", \"J3sus0\", \"#Te5t300\", \"J*90j12374\", \"Michheeul\", \"Monk3y6\"\n",
        "\n",
        "A saída deve ser a senha e um texto indicando se a senha é válida ou inválida:\n",
        "\n",
        "```\n",
        "\"1234\" - Senha inválida\n",
        "\"Qw#1234\" - Senha válida\n",
        "```"
      ]
    },
    {
      "cell_type": "code",
      "metadata": {
        "id": "UGgtGYGGf6J3"
      },
      "source": [
        "entrada = [\"12345678\", \"J3sus0\", \"#Te5t300\",  \"J*90j12374\", \"Michheeul\", \"Monk3y6\"]"
      ],
      "execution_count": 2,
      "outputs": []
    },
    {
      "cell_type": "code",
      "metadata": {
        "id": "e8eW-L2YlH_S"
      },
      "source": [
        "caracteres_especiais = ['$', '#', '@']"
      ],
      "execution_count": 3,
      "outputs": []
    },
    {
      "cell_type": "code",
      "metadata": {
        "id": "soE8epfelOoQ"
      },
      "source": [
        "senha = \"#Te5tKK300\""
      ],
      "execution_count": 4,
      "outputs": []
    },
    {
      "cell_type": "code",
      "metadata": {
        "id": "V-WJ5QTLmODL",
        "outputId": "33fc13a9-348e-442f-8242-447b07a4e9c1",
        "colab": {
          "base_uri": "https://localhost:8080/"
        }
      },
      "source": [
        "# Pelo menos 1 letra entre [a-z] e 1 letra entre [A-Z]\n",
        "# Contando letras maiusculas\n",
        "sum(s.isupper() for s in senha)"
      ],
      "execution_count": 5,
      "outputs": [
        {
          "output_type": "execute_result",
          "data": {
            "text/plain": [
              "3"
            ]
          },
          "metadata": {
            "tags": []
          },
          "execution_count": 5
        }
      ]
    },
    {
      "cell_type": "code",
      "metadata": {
        "id": "uL1kWRMHmOVb",
        "outputId": "643f2221-3f9f-41f6-9537-0f4acf40886d",
        "colab": {
          "base_uri": "https://localhost:8080/"
        }
      },
      "source": [
        "# Contando letras minusculas\n",
        "sum(s.islower() for s in senha)"
      ],
      "execution_count": 6,
      "outputs": [
        {
          "output_type": "execute_result",
          "data": {
            "text/plain": [
              "2"
            ]
          },
          "metadata": {
            "tags": []
          },
          "execution_count": 6
        }
      ]
    },
    {
      "cell_type": "code",
      "metadata": {
        "id": "b_6qB8RBmNwJ",
        "outputId": "624c1f5c-899d-4186-e6f0-a29fcd98182a",
        "colab": {
          "base_uri": "https://localhost:8080/"
        }
      },
      "source": [
        "# Contando numeros\n",
        "sum(s.isdigit() for s in senha)"
      ],
      "execution_count": 7,
      "outputs": [
        {
          "output_type": "execute_result",
          "data": {
            "text/plain": [
              "4"
            ]
          },
          "metadata": {
            "tags": []
          },
          "execution_count": 7
        }
      ]
    },
    {
      "cell_type": "code",
      "metadata": {
        "id": "mdCoJtnImh5Z",
        "outputId": "1d3950dc-a734-4a1f-af02-bf76739ed6f4",
        "colab": {
          "base_uri": "https://localhost:8080/"
        }
      },
      "source": [
        "# Contando caracteres especiais\n",
        "sum(s in caracteres_especiais for s in senha)"
      ],
      "execution_count": 8,
      "outputs": [
        {
          "output_type": "execute_result",
          "data": {
            "text/plain": [
              "1"
            ]
          },
          "metadata": {
            "tags": []
          },
          "execution_count": 8
        }
      ]
    },
    {
      "cell_type": "code",
      "metadata": {
        "id": "aovAs7Fzmlzs",
        "outputId": "9ad2c8ae-ac82-43d4-ed7a-24090f8c3243",
        "colab": {
          "base_uri": "https://localhost:8080/"
        }
      },
      "source": [
        "# Comprimento minimo e maximo\n",
        "6<=len(senha)<=16"
      ],
      "execution_count": 9,
      "outputs": [
        {
          "output_type": "execute_result",
          "data": {
            "text/plain": [
              "True"
            ]
          },
          "metadata": {
            "tags": []
          },
          "execution_count": 9
        }
      ]
    },
    {
      "cell_type": "code",
      "metadata": {
        "id": "n8F01NzD9uHm"
      },
      "source": [
        "def validar_senha(senha):\n",
        "  # Pelo menos 1 letra entre [a-z] e 1 letra entre [A-Z]\n",
        "  print('Contando letras maiusculas')\n",
        "  if sum(s.isupper() for s in senha)>=1:\n",
        "    print('Contando letras minusculas')\n",
        "    if sum(s.islower() for s in senha)>=1:\n",
        "      print('Contando numeros')\n",
        "      if sum(s.isdigit() for s in senha)>=1:\n",
        "        print('Contando caracteres especiais')\n",
        "        if sum(s in caracteres_especiais for s in senha)>=1:\n",
        "          print('Comprimento minimo e maximo')\n",
        "          if 6<=len(senha)<=16:\n",
        "            return 'senha válida'\n",
        "  return 'senha inválida'"
      ],
      "execution_count": 10,
      "outputs": []
    },
    {
      "cell_type": "code",
      "metadata": {
        "id": "0hDZjp3DlEmH",
        "outputId": "0317b0cc-efee-4ba5-9084-fb163cb10cc9",
        "colab": {
          "base_uri": "https://localhost:8080/",
          "height": 120
        }
      },
      "source": [
        "validar_senha(\"#Te5tKK300\")"
      ],
      "execution_count": 11,
      "outputs": [
        {
          "output_type": "stream",
          "text": [
            "Contando letras maiusculas\n",
            "Contando letras minusculas\n",
            "Contando numeros\n",
            "Contando caracteres especiais\n",
            "Comprimento minimo e maximo\n"
          ],
          "name": "stdout"
        },
        {
          "output_type": "execute_result",
          "data": {
            "application/vnd.google.colaboratory.intrinsic+json": {
              "type": "string"
            },
            "text/plain": [
              "'senha válida'"
            ]
          },
          "metadata": {
            "tags": []
          },
          "execution_count": 11
        }
      ]
    },
    {
      "cell_type": "code",
      "metadata": {
        "id": "DM1l5BQKlSpD",
        "outputId": "6df5691a-6ed7-42e8-b254-b52ea1b32367",
        "colab": {
          "base_uri": "https://localhost:8080/"
        }
      },
      "source": [
        "for senha in entrada:\n",
        "  print('Validando senha', senha)\n",
        "  print(validar_senha(senha))\n",
        "  print('='*80)"
      ],
      "execution_count": 12,
      "outputs": [
        {
          "output_type": "stream",
          "text": [
            "Validando senha 12345678\n",
            "Contando letras maiusculas\n",
            "senha inválida\n",
            "================================================================================\n",
            "Validando senha J3sus0\n",
            "Contando letras maiusculas\n",
            "Contando letras minusculas\n",
            "Contando numeros\n",
            "Contando caracteres especiais\n",
            "senha inválida\n",
            "================================================================================\n",
            "Validando senha #Te5t300\n",
            "Contando letras maiusculas\n",
            "Contando letras minusculas\n",
            "Contando numeros\n",
            "Contando caracteres especiais\n",
            "Comprimento minimo e maximo\n",
            "senha válida\n",
            "================================================================================\n",
            "Validando senha J*90j12374\n",
            "Contando letras maiusculas\n",
            "Contando letras minusculas\n",
            "Contando numeros\n",
            "Contando caracteres especiais\n",
            "senha inválida\n",
            "================================================================================\n",
            "Validando senha Michheeul\n",
            "Contando letras maiusculas\n",
            "Contando letras minusculas\n",
            "Contando numeros\n",
            "senha inválida\n",
            "================================================================================\n",
            "Validando senha Monk3y6\n",
            "Contando letras maiusculas\n",
            "Contando letras minusculas\n",
            "Contando numeros\n",
            "Contando caracteres especiais\n",
            "senha inválida\n",
            "================================================================================\n"
          ],
          "name": "stdout"
        }
      ]
    }
  ]
}